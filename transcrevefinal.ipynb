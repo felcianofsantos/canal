{
 "cells": [
  {
   "cell_type": "code",
   "execution_count": 1,
   "metadata": {},
   "outputs": [],
   "source": [
    "from io import BufferedReader\n",
    "from pydub import AudioSegment\n",
    "from pydub.utils import make_chunks\n",
    "import speech_recognition as sr"
   ]
  },
  {
   "cell_type": "code",
   "execution_count": null,
   "metadata": {},
   "outputs": [],
   "source": [
    "#audio_mp3 = 'audio3.mp3'\n",
    "audio_ogg = 'voice.ogg'\n",
    "audio_wav = 'audio.wav'\n",
    "\n",
    "# conversão de mp3 para wav\n",
    "sound = AudioSegment.from_mp3(audio_mp3)\n",
    "#sound = AudioSegment.from_ogg(audio_ogg)\n",
    "\n",
    "sound.export(audio_wav, format='wav')\n",
    "\n",
    "def transcrever_audio_mp3(caminho_arquivo):\n",
    "    # Inicializa o Recognizer\n",
    "    recognizer = sr.Recognizer()\n",
    "\n",
    "    # Faz a transcrição do áudio MP3\n",
    "    with sr.AudioFile(caminho_arquivo) as source:\n",
    "        audio = recognizer.record(source)\n",
    "\n",
    "    try:\n",
    "        # Realiza o reconhecimento de fala (transcrição)\n",
    "        texto_transcrito = recognizer.recognize_google(audio, language='pt-BR')\n",
    "        return texto_transcrito\n",
    "    except sr.UnknownValueError:\n",
    "        return \"Não foi possível reconhecer o áudio.\"\n",
    "    except sr.RequestError as e:\n",
    "        return f\"Ocorreu um erro na solicitação ao serviço de reconhecimento: {e}\"\n",
    "\n",
    "if __name__ == '__main__':\n",
    "    caminho_arquivo_audio = 'audio.wav'  # Substitua pelo caminho do arquivo MP3 que você deseja transcrever\n",
    "    texto_transcrito = transcrever_audio_mp3(caminho_arquivo_audio)\n",
    "    print(texto_transcrito)"
   ]
  }
 ],
 "metadata": {
  "kernelspec": {
   "display_name": "Python 3",
   "language": "python",
   "name": "python3"
  },
  "language_info": {
   "codemirror_mode": {
    "name": "ipython",
    "version": 3
   },
   "file_extension": ".py",
   "mimetype": "text/x-python",
   "name": "python",
   "nbconvert_exporter": "python",
   "pygments_lexer": "ipython3",
   "version": "3.10.12"
  }
 },
 "nbformat": 4,
 "nbformat_minor": 2
}
